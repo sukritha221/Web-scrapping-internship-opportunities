{
 "cells": [
  {
   "cell_type": "code",
   "execution_count": 1,
   "metadata": {},
   "outputs": [],
   "source": [
    "# Importing necessary libraries\n",
    "\n",
    "import pandas as pd\n",
    "import requests\n",
    "from bs4 import BeautifulSoup"
   ]
  },
  {
   "cell_type": "code",
   "execution_count": 2,
   "metadata": {},
   "outputs": [],
   "source": [
    "# Assigning the webpage address to a variable\n",
    "\n",
    "url = \"https://internshala.com/internships/work-from-home-jobs\""
   ]
  },
  {
   "cell_type": "code",
   "execution_count": 3,
   "metadata": {},
   "outputs": [],
   "source": [
    "# Requesting the url\n",
    "\n",
    "r = requests.get(url)"
   ]
  },
  {
   "cell_type": "code",
   "execution_count": 4,
   "metadata": {},
   "outputs": [
    {
     "data": {
      "text/plain": [
       "200"
      ]
     },
     "execution_count": 4,
     "metadata": {},
     "output_type": "execute_result"
    }
   ],
   "source": [
    "# Checking if the request was successful\n",
    "\n",
    "r.status_code"
   ]
  },
  {
   "cell_type": "code",
   "execution_count": 5,
   "metadata": {},
   "outputs": [],
   "source": [
    "# Creating a beautiful soup object to get access to all the html elements\n",
    "\n",
    "soup = BeautifulSoup(r.content, \"html.parser\")"
   ]
  },
  {
   "cell_type": "code",
   "execution_count": 6,
   "metadata": {},
   "outputs": [],
   "source": [
    "# Store results in a variable\n",
    "\n",
    "results = soup.find_all('div', {'class':'internship_meta'})"
   ]
  },
  {
   "cell_type": "code",
   "execution_count": 7,
   "metadata": {},
   "outputs": [
    {
     "data": {
      "text/plain": [
       "'Business Development (Sales)'"
      ]
     },
     "execution_count": 7,
     "metadata": {},
     "output_type": "execute_result"
    }
   ],
   "source": [
    "# Extracting the position/domain\n",
    "\n",
    "results[0].find('div', {'class':'heading_4_5 profile'}).get_text().strip()"
   ]
  },
  {
   "cell_type": "code",
   "execution_count": 8,
   "metadata": {},
   "outputs": [
    {
     "data": {
      "text/plain": [
       "'6 Weeks'"
      ]
     },
     "execution_count": 8,
     "metadata": {},
     "output_type": "execute_result"
    }
   ],
   "source": [
    "# Extracting internship duration\n",
    "\n",
    "soup.find_all('div', {'class':'item_body'})[1].get_text().strip()"
   ]
  },
  {
   "cell_type": "code",
   "execution_count": 9,
   "metadata": {},
   "outputs": [
    {
     "data": {
      "text/plain": [
       "'3000-7000 /month'"
      ]
     },
     "execution_count": 9,
     "metadata": {},
     "output_type": "execute_result"
    }
   ],
   "source": [
    "# Extracting stipend details\n",
    "\n",
    "results[0].find('span', {'class':'stipend'}).get_text().strip()"
   ]
  },
  {
   "cell_type": "code",
   "execution_count": 10,
   "metadata": {},
   "outputs": [],
   "source": [
    "root_url = 'https://internshala.com'"
   ]
  },
  {
   "cell_type": "code",
   "execution_count": 11,
   "metadata": {},
   "outputs": [],
   "source": [
    "# Extracting (relative) url of the internship posting\n",
    "\n",
    "rel_url = soup.find('div', {'class':'heading_4_5 profile'}).find('a').get('href')"
   ]
  },
  {
   "cell_type": "code",
   "execution_count": 12,
   "metadata": {},
   "outputs": [
    {
     "data": {
      "text/plain": [
       "'/internship/detail/business-development-sales-work-from-home-job-internship-at-ostello-india-private-limited1628754664'"
      ]
     },
     "execution_count": 12,
     "metadata": {},
     "output_type": "execute_result"
    }
   ],
   "source": [
    "rel_url"
   ]
  },
  {
   "cell_type": "code",
   "execution_count": 13,
   "metadata": {},
   "outputs": [
    {
     "data": {
      "text/plain": [
       "209"
      ]
     },
     "execution_count": 13,
     "metadata": {},
     "output_type": "execute_result"
    }
   ],
   "source": [
    "# Extracting the total number of pages we need to scrape\n",
    "\n",
    "total_pages = int(soup.find('span', {'id':'total_pages'}).get_text())\n",
    "total_pages"
   ]
  },
  {
   "cell_type": "code",
   "execution_count": 14,
   "metadata": {},
   "outputs": [],
   "source": [
    "# Creating empty lists for the different columns we need.\n",
    "# Theses lists will be filled with the data that is extracted from the webpage.\n",
    "\n",
    "name = []\n",
    "duration = []\n",
    "link = []\n",
    "stipend = []\n",
    "\n",
    "# Looping from the first to the last page\n",
    "\n",
    "for i in range(1, total_pages):\n",
    "    \n",
    "    # Requesting each url and creating a beautiful soup object for each of them\n",
    "    \n",
    "    website = 'https://internshala.com/internships/work-from-home-jobs/page-'+ str(i)\n",
    "    r = requests.get(website)\n",
    "    soup = BeautifulSoup(r.content, \"html.parser\")\n",
    "    results = soup.find_all('div', {'class':'internship_meta'})\n",
    "    \n",
    "    # Adding the scrapped results to the respective empty lists\n",
    "    \n",
    "    for result in results:\n",
    "        name.append(result.find('div', {'class':'heading_4_5 profile'}).get_text().strip())\n",
    "        duration.append(result.find_all('div', {'class':'item_body'})[1].get_text().strip())\n",
    "        link.append(result.find('div', {'class':'heading_4_5 profile'}).find('a').get('href'))\n",
    "\n",
    "    # Try-except block is used so that the looping doesn't stop if any error is encountered.\n",
    "        \n",
    "        try:\n",
    "            stipend.append(result.find('span', {'class':'stipend'}).get_text().strip())\n",
    "        except:\n",
    "            stipend.append('n/a')"
   ]
  },
  {
   "cell_type": "code",
   "execution_count": 15,
   "metadata": {},
   "outputs": [],
   "source": [
    "# This is used so that we can view the whole url/link in the df\n",
    "\n",
    "pd.set_option('display.max_colwidth', None)"
   ]
  },
  {
   "cell_type": "code",
   "execution_count": 16,
   "metadata": {},
   "outputs": [],
   "source": [
    "# Creating a dataframe using the details scrapped from the webpage\n",
    "\n",
    "df = pd.DataFrame({'name':name, 'duration':duration, 'stipend':stipend, 'link':link})"
   ]
  },
  {
   "cell_type": "code",
   "execution_count": 17,
   "metadata": {},
   "outputs": [],
   "source": [
    "# Since the loop only extracted the relative url, we need to add the root url to it,\n",
    "# so that we can directly access the webpage\n",
    "\n",
    "df['link'] = root_url + df['link']"
   ]
  },
  {
   "cell_type": "code",
   "execution_count": 18,
   "metadata": {},
   "outputs": [
    {
     "data": {
      "text/html": [
       "<div>\n",
       "<style scoped>\n",
       "    .dataframe tbody tr th:only-of-type {\n",
       "        vertical-align: middle;\n",
       "    }\n",
       "\n",
       "    .dataframe tbody tr th {\n",
       "        vertical-align: top;\n",
       "    }\n",
       "\n",
       "    .dataframe thead th {\n",
       "        text-align: right;\n",
       "    }\n",
       "</style>\n",
       "<table border=\"1\" class=\"dataframe\">\n",
       "  <thead>\n",
       "    <tr style=\"text-align: right;\">\n",
       "      <th></th>\n",
       "      <th>name</th>\n",
       "      <th>duration</th>\n",
       "      <th>stipend</th>\n",
       "      <th>link</th>\n",
       "    </tr>\n",
       "  </thead>\n",
       "  <tbody>\n",
       "    <tr>\n",
       "      <th>0</th>\n",
       "      <td>Business Development (Sales)</td>\n",
       "      <td>6 Weeks</td>\n",
       "      <td>3000-7000 /month</td>\n",
       "      <td>https://internshala.com/internship/detail/business-development-sales-work-from-home-job-internship-at-ostello-india-private-limited1628754664</td>\n",
       "    </tr>\n",
       "    <tr>\n",
       "      <th>1</th>\n",
       "      <td>Internshala Student Partner</td>\n",
       "      <td>3 Months</td>\n",
       "      <td>n/a</td>\n",
       "      <td>https://internshala.com/internship/detail/internship-at-internshala1628496329</td>\n",
       "    </tr>\n",
       "    <tr>\n",
       "      <th>2</th>\n",
       "      <td>Upcycling Ambassador - Social Work Movement (Openings:3000)</td>\n",
       "      <td>1 Week</td>\n",
       "      <td>Unpaid</td>\n",
       "      <td>https://internshala.com/internship/details/upcycling-ambassador-social-work-movement-openings3000-work-from-home-job-internship-at-team-everest1628185266</td>\n",
       "    </tr>\n",
       "    <tr>\n",
       "      <th>3</th>\n",
       "      <td>Product Delivery Management</td>\n",
       "      <td>6 Months</td>\n",
       "      <td>15000 /month</td>\n",
       "      <td>https://internshala.com/internship/detail/product-delivery-management-work-from-home-job-internship-at-times-internet1628847617</td>\n",
       "    </tr>\n",
       "    <tr>\n",
       "      <th>4</th>\n",
       "      <td>YouTube Operations</td>\n",
       "      <td>3 Months</td>\n",
       "      <td>5000 /month</td>\n",
       "      <td>https://internshala.com/internship/detail/youtube-operations-work-from-home-job-internship-at-9x-media-private-limited1628774006</td>\n",
       "    </tr>\n",
       "  </tbody>\n",
       "</table>\n",
       "</div>"
      ],
      "text/plain": [
       "                                                          name  duration  \\\n",
       "0                                 Business Development (Sales)   6 Weeks   \n",
       "1                                  Internshala Student Partner  3 Months   \n",
       "2  Upcycling Ambassador - Social Work Movement (Openings:3000)    1 Week   \n",
       "3                                  Product Delivery Management  6 Months   \n",
       "4                                           YouTube Operations  3 Months   \n",
       "\n",
       "            stipend  \\\n",
       "0  3000-7000 /month   \n",
       "1               n/a   \n",
       "2            Unpaid   \n",
       "3      15000 /month   \n",
       "4       5000 /month   \n",
       "\n",
       "                                                                                                                                                        link  \n",
       "0              https://internshala.com/internship/detail/business-development-sales-work-from-home-job-internship-at-ostello-india-private-limited1628754664  \n",
       "1                                                                              https://internshala.com/internship/detail/internship-at-internshala1628496329  \n",
       "2  https://internshala.com/internship/details/upcycling-ambassador-social-work-movement-openings3000-work-from-home-job-internship-at-team-everest1628185266  \n",
       "3                            https://internshala.com/internship/detail/product-delivery-management-work-from-home-job-internship-at-times-internet1628847617  \n",
       "4                           https://internshala.com/internship/detail/youtube-operations-work-from-home-job-internship-at-9x-media-private-limited1628774006  "
      ]
     },
     "execution_count": 18,
     "metadata": {},
     "output_type": "execute_result"
    }
   ],
   "source": [
    "df.head()"
   ]
  },
  {
   "cell_type": "code",
   "execution_count": 19,
   "metadata": {},
   "outputs": [
    {
     "name": "stdout",
     "output_type": "stream",
     "text": [
      "<class 'pandas.core.frame.DataFrame'>\n",
      "Int64Index: 26 entries, 226 to 8213\n",
      "Data columns (total 4 columns):\n",
      " #   Column    Non-Null Count  Dtype \n",
      "---  ------    --------------  ----- \n",
      " 0   name      26 non-null     object\n",
      " 1   duration  26 non-null     object\n",
      " 2   stipend   26 non-null     object\n",
      " 3   link      26 non-null     object\n",
      "dtypes: object(4)\n",
      "memory usage: 1.0+ KB\n"
     ]
    }
   ],
   "source": [
    "# Filtering the df according to our prefernces\n",
    "# The filtered df is created as a new df so that skills data can be extracted from it in the next step.\n",
    "\n",
    "df_sorted = df[(df['duration']=='6 Months') & (df['name'].str.contains('Analy')) & (df['stipend']!='Unpaid')]\n",
    "df_sorted.info()"
   ]
  },
  {
   "cell_type": "code",
   "execution_count": 20,
   "metadata": {},
   "outputs": [],
   "source": [
    "# Skills data is only extracted from the filtered data as extracting it from all the job postings will take a very long time\n",
    "\n",
    "skills = []\n",
    "\n",
    "for link in df_sorted['link']:\n",
    "    r = requests.get(link)\n",
    "    soup = BeautifulSoup(r.content, \"html.parser\")\n",
    "    results = soup.find_all('div', {'class':'detail_view'})\n",
    "    \n",
    "    for result in results:\n",
    "    # Since skills are not mentioned in the all the listings, it will throw an error.\n",
    "    # To avoid the error, try-except block is used.\n",
    "        try:\n",
    "            skills.append(result.find_all('div', {'class':'round_tabs_container'})[0].get_text().strip().replace('\\n', ' - '))\n",
    "        except:\n",
    "            skills.append('n/a')"
   ]
  },
  {
   "cell_type": "code",
   "execution_count": 21,
   "metadata": {
    "scrolled": true
   },
   "outputs": [],
   "source": [
    "# Combining the skills column with the previously created df_sorted so that all the details can be viewed at a time\n",
    "\n",
    "df_sorted.insert(2, 'skills', skills)"
   ]
  },
  {
   "cell_type": "code",
   "execution_count": 22,
   "metadata": {},
   "outputs": [
    {
     "data": {
      "text/plain": [
       "510               https://internshala.com/internship/detail/data-analytics-work-from-home-job-internship-at-angel-broking1628839339\n",
       "5165               https://internshala.com/internship/detail/business-analysis-work-from-home-job-internship-at-workxmate1628166201\n",
       "5492              https://internshala.com/internship/detail/business-analytics-work-from-home-job-internship-at-kofluence1628144493\n",
       "5559             https://internshala.com/internship/detail/product-qa-analysis-work-from-home-job-internship-at-kofluence1628141497\n",
       "5734    https://internshala.com/internship/detail/business-analytics-work-from-home-job-internship-at-fragma-data-systems1628087083\n",
       "Name: link, dtype: object"
      ]
     },
     "execution_count": 22,
     "metadata": {},
     "output_type": "execute_result"
    }
   ],
   "source": [
    "# Sorting the df_sorted even further to match our preferences\n",
    "# The (?i) in the regex pattern tells the re module to ignore case\n",
    "\n",
    "df_sorted[df_sorted['skills'].str.contains('(?i)sql')].link"
   ]
  },
  {
   "cell_type": "code",
   "execution_count": null,
   "metadata": {},
   "outputs": [],
   "source": []
  }
 ],
 "metadata": {
  "kernelspec": {
   "display_name": "Python 3",
   "language": "python",
   "name": "python3"
  },
  "language_info": {
   "codemirror_mode": {
    "name": "ipython",
    "version": 3
   },
   "file_extension": ".py",
   "mimetype": "text/x-python",
   "name": "python",
   "nbconvert_exporter": "python",
   "pygments_lexer": "ipython3",
   "version": "3.8.3"
  }
 },
 "nbformat": 4,
 "nbformat_minor": 4
}
